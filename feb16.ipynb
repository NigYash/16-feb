{
 "cells": [
  {
   "attachments": {},
   "cell_type": "markdown",
   "metadata": {},
   "source": [
    "Q1. What is a database? Differentiate between SQL and NoSQL databases.\n",
    "\n",
    "A1. A database is an organized collection of data, so that it can be easily accesed and managed.\n",
    "\n",
    "1- SQL databases are structured and organized into tables with predefined columns and data types, whereas NoSQL databases are unstructured and can have varyinf data formats.\n",
    "\n",
    "2- SQL databases use SQL to manipulate and query the data, No SQL databases typically have their own query language that is specific to their data model.\n",
    "\n",
    "3- SQL databses are structured, have a predefined schema, use SQL as a query language, and are a vertically  scalable. NoSQL databases are unstructured, use their own query language, are horizontally scalable, and are better suited for applications that require high scalability and flexibility.    "
   ]
  },
  {
   "attachments": {},
   "cell_type": "markdown",
   "metadata": {},
   "source": [
    "Q2. What is DDL? Explain why CREATE, DROP, ALTER, and TRUNCATE are used with an example.\n",
    "\n",
    "A2. DDL stands for data definition language, which is a set of SQL commands used to define and modify the structure of database objects such as tables, indexes, views, and constraints. DDL statements are used to create, alter, and drop database objects.\n",
    "\n",
    "CREATE- Used to create a new table in a database and specify its columns, data types, and constraints.\n",
    "\n",
    "Syntax: CREATE TABLE TABLE_NAME(COLUMN_NAME DATATYPES[]);\n",
    "\n",
    "ALTER- It is used to alter the structure of database. This change could be either to modify the characteristics of an existing attribute or probably to add a new attribut.\n",
    "\n",
    "Syntax: ALTER NAME table_name ADD column_name COLUMN_definition;\n",
    "\n",
    "DROP- Used to delete both the structure and record store in table.\n",
    "\n",
    "Syntax: DROP TABLE table_name;\n",
    "\n",
    "TRUNCATE- Used to delete all the rows from the table and free the table space.\n",
    "\n",
    "Syntax: TRUNCATE TABLE table_name;"
   ]
  },
  {
   "attachments": {},
   "cell_type": "markdown",
   "metadata": {},
   "source": [
    "Q3. What is DML? Explain INSERT, UPDATE, and DELETE with an example.\n",
    "\n",
    "A3. DML stands for the data manipulation language. DML commands are used to modify the database, It is responsible for all forms of changes in database.\n",
    "\n",
    "Insert- It is a SQL query used to insert data into row of a table. \n",
    "\n",
    "Syntax: INSERT INTO TABLE_NAME(col1, col2,.....)\n",
    "        VALUES(values1, values2,....)\n",
    "\n",
    "UPDATE- This command is used to update the value of a column in table.\n",
    "\n",
    "Syntax: UPDATE table_name SET[column_name1= value1, column_name2= value2,.....]\n",
    "\n",
    "DELETE- It is used to remove one or more row from a table.\n",
    "\n",
    "Syntax: DELETE FROM table_name[WHERE condition];"
   ]
  },
  {
   "attachments": {},
   "cell_type": "markdown",
   "metadata": {},
   "source": [
    "Q4. What is DQL? Explain SELECT with an example.\n",
    "\n",
    "A4. DQL stands for data query language, it is used to fetch the data from the database.\n",
    "\n",
    "SELECT- It is used to select the attribute based on condition described by WHERE clause.\n",
    "\n",
    "Syntax: SELECT expressions FROM TABLES WHERE conditions; "
   ]
  },
  {
   "attachments": {},
   "cell_type": "markdown",
   "metadata": {},
   "source": [
    "Q5. Explain Primary Key and Foreign Key.\n",
    "\n",
    "A5. Primary Key: The primary key constraints uniquely identifies each row in a table. It must contain UNIQUE values and has an implicit NOT NULL contraint. A table in SQL is strictly restricted to have one and only one primary key, which is comprised of single or multiple fields(columns).\n",
    "\n",
    "Foreign Key: It comprises of single or collection of fields in a table that essential refer to PRIMARY KEY in another table. The table with the foreign key constraint is labelled as the child table, and the table containing the candidate key is labelled as the referenced or parent table."
   ]
  },
  {
   "attachments": {},
   "cell_type": "markdown",
   "metadata": {},
   "source": [
    "Q6. Write a python code to connect MySQL to python. Explain the cursor() and execute() method.\n",
    "\n",
    "A6. import mysql.connector\n",
    "#create user 'user'@'%' identified by 'password'\n",
    "  mydb = mysql.connector.connect(\n",
    "  \n",
    "  host=\"localhost\",\n",
    "  user=\"abc\",\n",
    "  password=\"password\"\n",
    ")\n",
    "mycursor = mydb.cursor()\n",
    "mycursor.execute(\"SELECT * FROM customers\")\n",
    "for x in myresult:\n",
    "  print(x)\n",
    "\n",
    "\n",
    "The cursor method creates a cursor object that allows us to execute SQL queries and fetch their results. \n",
    "\n",
    "The execute method is used to execute an SQL query. We pass the query as an arguement to this method. If the query contains placeholders , we can pass a tuple or list of values as a second arguement to replace the placeholders with actual values.\n"
   ]
  },
  {
   "attachments": {},
   "cell_type": "markdown",
   "metadata": {},
   "source": [
    "Q7. Give the order of execution of SQL clauses in an SQL query.\n",
    "\n",
    "A7. In a SQL, the order of execution of the clauses is as follows:\n",
    "\n",
    "1- FROM clause: specifies the tables or views from which the data will be retrieved.\n",
    "\n",
    "2- WHERE clause: filters thae data based on a specified condition.\n",
    "\n",
    "3- GROUP BY clause: groups the data based on a specified column and expression.\n",
    "\n",
    "4- HAVING clause: filters the grouped data based on a specified condition.\n",
    "\n",
    "5- SELECT clause: specifies the columns or expressions to to be included in the result set.\n",
    "\n",
    "6- ORDER BY clause: sorts the result set based on a specified column or expression.\n",
    "\n",
    "7- LIMIT clause: limits the number of rows returned in the result set."
   ]
  },
  {
   "cell_type": "markdown",
   "metadata": {},
   "source": []
  }
 ],
 "metadata": {
  "language_info": {
   "name": "python"
  },
  "orig_nbformat": 4
 },
 "nbformat": 4,
 "nbformat_minor": 2
}
